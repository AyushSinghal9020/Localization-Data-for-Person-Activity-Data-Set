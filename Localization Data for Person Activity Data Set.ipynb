{
 "cells": [
  {
   "cell_type": "markdown",
   "id": "26a48820",
   "metadata": {},
   "source": [
    "# Localization Data for Person Activity Data Set Machine Learning Model"
   ]
  },
  {
   "cell_type": "markdown",
   "id": "dbf15fd2",
   "metadata": {},
   "source": [
    "## Importing the modules"
   ]
  },
  {
   "cell_type": "code",
   "execution_count": 1,
   "id": "bac6e88d",
   "metadata": {},
   "outputs": [],
   "source": [
    "import pandas as pd"
   ]
  },
  {
   "cell_type": "markdown",
   "id": "d0cb10b9",
   "metadata": {},
   "source": [
    "#### For working with data frames "
   ]
  },
  {
   "cell_type": "markdown",
   "id": "e473f196",
   "metadata": {},
   "source": [
    "##### Read_CSV"
   ]
  },
  {
   "cell_type": "markdown",
   "id": "fe1cbd55",
   "metadata": {},
   "source": [
    "    pd.read_csv() => Reads the designated file\n",
    "      Arguments =>\n",
    "            1) File name with extenstion \n",
    "            2) File destination with extenstion"
   ]
  },
  {
   "cell_type": "markdown",
   "id": "9e31ce50",
   "metadata": {},
   "source": [
    "##### Data.Shape"
   ]
  },
  {
   "cell_type": "markdown",
   "id": "83edcccd",
   "metadata": {},
   "source": [
    "    shape => Shows the shape(number of rows and columns of the table)"
   ]
  },
  {
   "cell_type": "markdown",
   "id": "524b77c1",
   "metadata": {},
   "source": [
    "##### Data.Columns"
   ]
  },
  {
   "cell_type": "markdown",
   "id": "ec45b433",
   "metadata": {},
   "source": [
    "    columns = [\"columne name\"]\n",
    "        => Changes the columns name"
   ]
  },
  {
   "cell_type": "markdown",
   "id": "0948390b",
   "metadata": {},
   "source": [
    "##### Data.Head"
   ]
  },
  {
   "cell_type": "markdown",
   "id": "b0b86f84",
   "metadata": {},
   "source": [
    "    head() => Shows a sneak peak of the dataset"
   ]
  },
  {
   "cell_type": "markdown",
   "id": "ff274b7f",
   "metadata": {},
   "source": [
    "##### Data.Info\n"
   ]
  },
  {
   "cell_type": "markdown",
   "id": "3500c326",
   "metadata": {},
   "source": [
    "    info() => Shows if there is any null value"
   ]
  },
  {
   "cell_type": "markdown",
   "id": "0ef522c0",
   "metadata": {},
   "source": [
    "##### Data.Describe()"
   ]
  },
  {
   "cell_type": "markdown",
   "id": "226c1574",
   "metadata": {},
   "source": [
    "    describe() => Describes the data as \n",
    "        [count, unique, top, freq, mean, std, min, 25%, 50%, 75%, max]\n",
    "    Arguments  = \n",
    "        1) include = 'all' => shows all data "
   ]
  },
  {
   "cell_type": "markdown",
   "id": "de45b4f8",
   "metadata": {},
   "source": [
    "##### Data.select_dtypes().columns.to_list()"
   ]
  },
  {
   "cell_type": "markdown",
   "id": "bfb11cd1",
   "metadata": {},
   "source": [
    "    1) select_dtypes() => selects the data types from the particuale column\n",
    "        Arguments => Name of the column\n",
    "    2) column => Specifies th column\n",
    "    3) to_list => Converts the column to the list fromat"
   ]
  },
  {
   "cell_type": "markdown",
   "id": "bbb25e07",
   "metadata": {},
   "source": [
    "##### Data[].Nunique"
   ]
  },
  {
   "cell_type": "markdown",
   "id": "813117d2",
   "metadata": {},
   "source": [
    "    data[i].nunique() => Shows the total unique values of the data set"
   ]
  },
  {
   "cell_type": "markdown",
   "id": "38b63297",
   "metadata": {},
   "source": [
    "##### Data[].unique"
   ]
  },
  {
   "cell_type": "markdown",
   "id": "d0dcb235",
   "metadata": {},
   "source": [
    "    data[i].unique() => Shwos the Uniqe Values of the data set"
   ]
  },
  {
   "cell_type": "markdown",
   "id": "9a0ed3c8",
   "metadata": {},
   "source": [
    "#### Dt.Day"
   ]
  },
  {
   "cell_type": "markdown",
   "id": "5304c59a",
   "metadata": {},
   "source": [
    "    dt.day => shows the the value in day format using numpy array"
   ]
  },
  {
   "cell_type": "markdown",
   "id": "4bb952d9",
   "metadata": {},
   "source": [
    "#### Dt.Month"
   ]
  },
  {
   "cell_type": "markdown",
   "id": "1e75567b",
   "metadata": {},
   "source": [
    "    dt.month => shows the the value in month format using numpy array"
   ]
  },
  {
   "cell_type": "markdown",
   "id": "5a6ed796",
   "metadata": {},
   "source": [
    "#### Dt.Year"
   ]
  },
  {
   "cell_type": "markdown",
   "id": "b903f2df",
   "metadata": {},
   "source": [
    "    dt.year => shows the the value in year format using numpy array"
   ]
  },
  {
   "cell_type": "markdown",
   "id": "144c7609",
   "metadata": {},
   "source": [
    "#### Dt.Hour"
   ]
  },
  {
   "cell_type": "markdown",
   "id": "08a6917d",
   "metadata": {},
   "source": [
    "    dt.hour => shows the the value in hour format using numpy array"
   ]
  },
  {
   "cell_type": "markdown",
   "id": "f60468f0",
   "metadata": {},
   "source": [
    "#### Dt.Minute"
   ]
  },
  {
   "cell_type": "markdown",
   "id": "9e0ef8aa",
   "metadata": {},
   "source": [
    "    dt.minute => shows the the value in minute format using numpy array"
   ]
  },
  {
   "cell_type": "markdown",
   "id": "4f55fe59",
   "metadata": {},
   "source": [
    "#### Dt.Second"
   ]
  },
  {
   "cell_type": "markdown",
   "id": "bd509973",
   "metadata": {},
   "source": [
    "    dt.second => shows the the value in second format using numpy array"
   ]
  },
  {
   "cell_type": "markdown",
   "id": "297cfc57",
   "metadata": {},
   "source": [
    "#### Dt.Microsecond"
   ]
  },
  {
   "cell_type": "markdown",
   "id": "c4046692",
   "metadata": {},
   "source": [
    "    dt.microsecond => shows the the value in microsecond format using numpy array"
   ]
  },
  {
   "cell_type": "markdown",
   "id": "aaecb29e",
   "metadata": {},
   "source": [
    "#### Data.Drop()"
   ]
  },
  {
   "cell_type": "markdown",
   "id": "236352ad",
   "metadata": {},
   "source": [
    "    data.drop() => drops the column in the data set\n",
    "        Arguments() => \n",
    "            1) column names\n",
    "            2) axis = 1\n",
    "                => describes the axis as 1\n",
    "            3) inplace = True/False\n",
    "                => shows if the deletion is permannent or temprory"
   ]
  },
  {
   "cell_type": "markdown",
   "id": "959cb239",
   "metadata": {},
   "source": [
    "#### Data[].Value_counts"
   ]
  },
  {
   "cell_type": "markdown",
   "id": "145d0122",
   "metadata": {},
   "source": [
    "    data[].value_counts => Count the value of all acitviity \n",
    "        Arguments => [] => name of the column"
   ]
  },
  {
   "cell_type": "code",
   "execution_count": 3,
   "id": "532f6402",
   "metadata": {},
   "outputs": [],
   "source": [
    "import seaborn as sns"
   ]
  },
  {
   "cell_type": "markdown",
   "id": "c10a5573",
   "metadata": {},
   "source": [
    "#### Heatmap()"
   ]
  },
  {
   "cell_type": "markdown",
   "id": "6c50d1ea",
   "metadata": {},
   "source": [
    "    heatmap() => shows the information in a heatmap format\n",
    "        Arguments => \n",
    "            1) data.corr() => specifies a correlation between columns\n",
    "            2) annot = True/False\n",
    "                => creates a blank annotion numpy array"
   ]
  },
  {
   "cell_type": "markdown",
   "id": "043e6a1a",
   "metadata": {},
   "source": [
    "#### Boxplot()"
   ]
  },
  {
   "cell_type": "markdown",
   "id": "fb835bb1",
   "metadata": {},
   "source": [
    "    boxplot() => shows the data in a box format\n",
    "        Arguments => data frame"
   ]
  },
  {
   "cell_type": "markdown",
   "id": "bff122e9",
   "metadata": {},
   "source": [
    "#### Displot()"
   ]
  },
  {
   "cell_type": "markdown",
   "id": "439917f6",
   "metadata": {},
   "source": [
    "    displot() => shows the data in a distribution graph format\n",
    "        Arguments => data frame "
   ]
  },
  {
   "cell_type": "code",
   "execution_count": 4,
   "id": "9dcd9782",
   "metadata": {},
   "outputs": [],
   "source": [
    "import matplotlib.pyplot as plt"
   ]
  },
  {
   "cell_type": "markdown",
   "id": "ab652fb5",
   "metadata": {},
   "source": [
    "#### Plt.FIgure()"
   ]
  },
  {
   "cell_type": "markdown",
   "id": "de34fd20",
   "metadata": {},
   "source": [
    "    plt.figure() => Assigns memory for the plotting in the variabe"
   ]
  },
  {
   "cell_type": "markdown",
   "id": "f39a5757",
   "metadata": {},
   "source": [
    "#### Figsize()"
   ]
  },
  {
   "cell_type": "markdown",
   "id": "730c8e0b",
   "metadata": {},
   "source": [
    "    figsize() => determines the size of the figure\n",
    "        Arguments => (x_axis, y_axis)"
   ]
  },
  {
   "cell_type": "markdown",
   "id": "afa99f61",
   "metadata": {},
   "source": [
    "#### Plt.Show()"
   ]
  },
  {
   "cell_type": "markdown",
   "id": "061a5daa",
   "metadata": {},
   "source": [
    "    plt.show() => display the graph"
   ]
  },
  {
   "cell_type": "markdown",
   "id": "43a62bab",
   "metadata": {},
   "source": [
    "#### Plt.Axes()"
   ]
  },
  {
   "cell_type": "markdown",
   "id": "0b419eb6",
   "metadata": {},
   "source": [
    "    plt.axes() => Plots the axes numbers on the graph for further plotting\n",
    "        Arguments => 1) projection = name of the projection"
   ]
  },
  {
   "cell_type": "markdown",
   "id": "90d71c27",
   "metadata": {},
   "source": [
    "#### Scatter3D()"
   ]
  },
  {
   "cell_type": "markdown",
   "id": "c5a94a65",
   "metadata": {},
   "source": [
    "    scatter3D() => plots the graph in scatter format\n",
    "        Arguments => 1) axes and their names\n",
    "                     2) cmap = colour of scatter graph"
   ]
  },
  {
   "cell_type": "code",
   "execution_count": 5,
   "id": "a99a7968",
   "metadata": {},
   "outputs": [],
   "source": [
    "import sklearn"
   ]
  },
  {
   "cell_type": "markdown",
   "id": "d213d8f5",
   "metadata": {},
   "source": [
    "#### Machine Learning Model Training"
   ]
  },
  {
   "cell_type": "code",
   "execution_count": 6,
   "id": "7204d120",
   "metadata": {},
   "outputs": [],
   "source": [
    "from sklearn.preprocessing import LabelEncoder"
   ]
  },
  {
   "cell_type": "markdown",
   "id": "e3b227d5",
   "metadata": {},
   "source": [
    "#### LabelEncoder"
   ]
  },
  {
   "cell_type": "markdown",
   "id": "5934b570",
   "metadata": {},
   "source": [
    "    LabelEncoder => encode labels with a value between 0 and n_classes-1 where n is the number of distinct labels. \n",
    "        If a label repeats it assigns the same value to as assigned earlier."
   ]
  },
  {
   "cell_type": "markdown",
   "id": "3851c3d4",
   "metadata": {},
   "source": [
    "##### Fit_transform()"
   ]
  },
  {
   "cell_type": "markdown",
   "id": "93684b6f",
   "metadata": {},
   "source": [
    "    fit_transform => The fit(data) method is used to compute the mean and std dev for a given feature to be used further for scaling. \n",
    "    Arguments = name of the column "
   ]
  },
  {
   "cell_type": "code",
   "execution_count": 7,
   "id": "d036108c",
   "metadata": {},
   "outputs": [],
   "source": [
    "from sklearn.model_selection import train_test_split"
   ]
  },
  {
   "cell_type": "markdown",
   "id": "23c960d0",
   "metadata": {},
   "source": [
    "#### Train_Test_Split()"
   ]
  },
  {
   "cell_type": "markdown",
   "id": "2c5ff0b1",
   "metadata": {},
   "source": [
    "    train_test_split() => devides the data set into train and test sets\n",
    "        Arguments => \n",
    "            1) test_size() => size of the test\n",
    "            2) train_size() => size of the train\n",
    "            3) random_state() => Controlls the shuffling of the data\n",
    "            4) shuffle() => wethert to shuffle or not shuffle the data\n",
    "            5) stratify() => user or not the stratified"
   ]
  },
  {
   "cell_type": "code",
   "execution_count": 8,
   "id": "2d35cd79",
   "metadata": {},
   "outputs": [],
   "source": [
    "from sklearn.preprocessing import RobustScaler"
   ]
  },
  {
   "cell_type": "markdown",
   "id": "80adc7ad",
   "metadata": {},
   "source": [
    "#### RobustScaler()"
   ]
  },
  {
   "cell_type": "markdown",
   "id": "7d4fa6de",
   "metadata": {},
   "source": [
    "    RobustScaler() => initialise the RobustScaler"
   ]
  },
  {
   "cell_type": "markdown",
   "id": "9e41be73",
   "metadata": {},
   "source": [
    "#### Scaler.Fit_transform()"
   ]
  },
  {
   "cell_type": "markdown",
   "id": "5d5bceef",
   "metadata": {},
   "source": [
    "    scaler.fit_transform() => transforms the sample for the scaling\n",
    "        Arguments => samples "
   ]
  },
  {
   "cell_type": "code",
   "execution_count": 9,
   "id": "3b940fa8",
   "metadata": {},
   "outputs": [],
   "source": [
    "from sklearn.linear_model import LogisticRegression"
   ]
  },
  {
   "cell_type": "markdown",
   "id": "73e66d12",
   "metadata": {},
   "source": [
    "#### Model.FIt()"
   ]
  },
  {
   "cell_type": "markdown",
   "id": "cae5aec7",
   "metadata": {},
   "source": [
    "    model.fit() => fits the model for the training\n",
    "        Arguments => model to be trained"
   ]
  },
  {
   "cell_type": "markdown",
   "id": "694d8240",
   "metadata": {},
   "source": [
    "#### Model.Pred()"
   ]
  },
  {
   "cell_type": "markdown",
   "id": "a90e66d8",
   "metadata": {},
   "source": [
    "    model.pred() => preditcs from the trained model\n",
    "        Arguments => model to be preditced on"
   ]
  },
  {
   "cell_type": "code",
   "execution_count": 10,
   "id": "2b092470",
   "metadata": {},
   "outputs": [],
   "source": [
    "from sklearn.ensemble import RandomForestClassifier"
   ]
  },
  {
   "cell_type": "code",
   "execution_count": 11,
   "id": "a2038632",
   "metadata": {},
   "outputs": [],
   "source": [
    "from sklearn.tree import DecisionTreeClassifier"
   ]
  },
  {
   "cell_type": "code",
   "execution_count": 12,
   "id": "772e4ace",
   "metadata": {},
   "outputs": [],
   "source": [
    "from sklearn.metrics import accuracy_score,precision_score,recall_score,f1_score, confusion_matrix, roc_curve, auc, classification_report"
   ]
  },
  {
   "cell_type": "markdown",
   "id": "51850201",
   "metadata": {},
   "source": [
    "#### Accuracy_score()"
   ]
  },
  {
   "cell_type": "markdown",
   "id": "90e2f965",
   "metadata": {},
   "source": [
    "    accuracy_score() => calculates the accuracy score for the prediction\n",
    "        Arguments() => \n",
    "            1) test() => tested data\n",
    "            2) predeicton() => predition on the tested data"
   ]
  },
  {
   "cell_type": "markdown",
   "id": "b76d0f72",
   "metadata": {},
   "source": [
    "#### Classification_report()"
   ]
  },
  {
   "cell_type": "markdown",
   "id": "559f7837",
   "metadata": {},
   "source": [
    "    classification_report() => makes a classification report for the accruracy\n",
    "        Arguments() => \n",
    "            1) test() => tested data\n",
    "            2) predeicton() => predition on the tested data"
   ]
  },
  {
   "cell_type": "code",
   "execution_count": 13,
   "id": "5b95f3ee",
   "metadata": {},
   "outputs": [],
   "source": [
    "from lightgbm import LGBMClassifier"
   ]
  },
  {
   "cell_type": "markdown",
   "id": "6504ad69",
   "metadata": {},
   "source": [
    "#### LGBM CLassifier()"
   ]
  },
  {
   "cell_type": "markdown",
   "id": "7d4e44de",
   "metadata": {},
   "source": [
    "    LGBMClassifier() => intialise the classifier\n",
    "        Argumets =\n",
    "            1) n_estimators => Number of boosted trees to fit\n",
    "                boosted trees => combining many weak learners(trees) into a strong classifier\n",
    "            2) n_jobs = Number of parallel threads to use for training (can be changed at prediction time by passing it as an extra keyword argument). For better performance, it is recommended to set this to the number of physical cores in the CPU. Negative integers are interpreted as following joblib’s formula (n_cpus + 1 + n_jobs), just like scikit-learn (so e.g. -1 means using all threads). A value of zero corresponds the default number of threads configured for OpenMP in the system. A value of None (the default) corresponds to using the number of physical cores in the system (its correct detection requires either the joblib or the psutil util libraries to be installed).\n",
    "            3) max_depth () – Maximum tree depth for base learners, <=0 means no limit.\n",
    "            4) min_child_weight () – Minimum sum of instance weight (Hessian) needed in a child (leaf).\n",
    "            5) min_child_samples () – Minimum number of data needed in a child (leaf).\n",
    "            6) num_leaves () – Maximum tree leaves for base learners.\n",
    "            7) learning_rate () – Boosting learning rate. You can use callbacks parameter of fit method to shrink/adapt learning rate in training using reset_parameter callback. Note, that this will ignore the learning_rate argument in training."
   ]
  },
  {
   "cell_type": "code",
   "execution_count": 14,
   "id": "c08bfa44",
   "metadata": {},
   "outputs": [],
   "source": [
    "import catboost"
   ]
  },
  {
   "cell_type": "code",
   "execution_count": 15,
   "id": "a7dc8e40",
   "metadata": {},
   "outputs": [],
   "source": [
    "from catboost import CatBoostClassifier"
   ]
  },
  {
   "cell_type": "code",
   "execution_count": 16,
   "id": "07deea39",
   "metadata": {},
   "outputs": [],
   "source": [
    "from xgboost import XGBClassifier"
   ]
  },
  {
   "cell_type": "code",
   "execution_count": 17,
   "id": "ebd3bbc3",
   "metadata": {},
   "outputs": [],
   "source": [
    "from imblearn.over_sampling import SMOTE"
   ]
  },
  {
   "cell_type": "markdown",
   "id": "a4183b89",
   "metadata": {},
   "source": [
    "#### SMOTE()"
   ]
  },
  {
   "cell_type": "markdown",
   "id": "52f7193e",
   "metadata": {},
   "source": [
    "    SMOTE() = uses the Synthetic Minority Oversampling Technique for training the data"
   ]
  },
  {
   "cell_type": "markdown",
   "id": "1f49c3d7",
   "metadata": {},
   "source": [
    "#### SMOTE.Fit_sample()\n"
   ]
  },
  {
   "cell_type": "markdown",
   "id": "98fbe62f",
   "metadata": {},
   "source": [
    "    smote.fit_sample() = fits the sample for SMOTE oversampling method \n",
    "        Arguments = samples "
   ]
  },
  {
   "cell_type": "code",
   "execution_count": 18,
   "id": "81536ec4",
   "metadata": {},
   "outputs": [],
   "source": [
    "data = pd.read_csv(\"Data.csv\")"
   ]
  },
  {
   "cell_type": "code",
   "execution_count": 19,
   "id": "3bc6d891",
   "metadata": {},
   "outputs": [
    {
     "data": {
      "text/html": [
       "<div>\n",
       "<style scoped>\n",
       "    .dataframe tbody tr th:only-of-type {\n",
       "        vertical-align: middle;\n",
       "    }\n",
       "\n",
       "    .dataframe tbody tr th {\n",
       "        vertical-align: top;\n",
       "    }\n",
       "\n",
       "    .dataframe thead th {\n",
       "        text-align: right;\n",
       "    }\n",
       "</style>\n",
       "<table border=\"1\" class=\"dataframe\">\n",
       "  <thead>\n",
       "    <tr style=\"text-align: right;\">\n",
       "      <th></th>\n",
       "      <th>A01</th>\n",
       "      <th>010-000-024-033</th>\n",
       "      <th>633790226051280329</th>\n",
       "      <th>27.05.2009 14:03:25:127</th>\n",
       "      <th>4.062931060791016</th>\n",
       "      <th>1.8924342393875122</th>\n",
       "      <th>0.5074254274368286</th>\n",
       "      <th>walking</th>\n",
       "    </tr>\n",
       "  </thead>\n",
       "  <tbody>\n",
       "    <tr>\n",
       "      <th>0</th>\n",
       "      <td>A01</td>\n",
       "      <td>020-000-033-111</td>\n",
       "      <td>633790226051820913</td>\n",
       "      <td>27.05.2009 14:03:25:183</td>\n",
       "      <td>4.291954</td>\n",
       "      <td>1.781140</td>\n",
       "      <td>1.344495</td>\n",
       "      <td>walking</td>\n",
       "    </tr>\n",
       "    <tr>\n",
       "      <th>1</th>\n",
       "      <td>A01</td>\n",
       "      <td>020-000-032-221</td>\n",
       "      <td>633790226052091205</td>\n",
       "      <td>27.05.2009 14:03:25:210</td>\n",
       "      <td>4.359101</td>\n",
       "      <td>1.826456</td>\n",
       "      <td>0.968821</td>\n",
       "      <td>walking</td>\n",
       "    </tr>\n",
       "    <tr>\n",
       "      <th>2</th>\n",
       "      <td>A01</td>\n",
       "      <td>010-000-024-033</td>\n",
       "      <td>633790226052361498</td>\n",
       "      <td>27.05.2009 14:03:25:237</td>\n",
       "      <td>4.087835</td>\n",
       "      <td>1.879999</td>\n",
       "      <td>0.466983</td>\n",
       "      <td>walking</td>\n",
       "    </tr>\n",
       "    <tr>\n",
       "      <th>3</th>\n",
       "      <td>A01</td>\n",
       "      <td>010-000-030-096</td>\n",
       "      <td>633790226052631792</td>\n",
       "      <td>27.05.2009 14:03:25:263</td>\n",
       "      <td>4.324462</td>\n",
       "      <td>2.072460</td>\n",
       "      <td>0.488065</td>\n",
       "      <td>walking</td>\n",
       "    </tr>\n",
       "    <tr>\n",
       "      <th>4</th>\n",
       "      <td>A01</td>\n",
       "      <td>020-000-033-111</td>\n",
       "      <td>633790226052902087</td>\n",
       "      <td>27.05.2009 14:03:25:290</td>\n",
       "      <td>4.364077</td>\n",
       "      <td>1.767691</td>\n",
       "      <td>1.299996</td>\n",
       "      <td>walking</td>\n",
       "    </tr>\n",
       "    <tr>\n",
       "      <th>...</th>\n",
       "      <td>...</td>\n",
       "      <td>...</td>\n",
       "      <td>...</td>\n",
       "      <td>...</td>\n",
       "      <td>...</td>\n",
       "      <td>...</td>\n",
       "      <td>...</td>\n",
       "      <td>...</td>\n",
       "    </tr>\n",
       "    <tr>\n",
       "      <th>164854</th>\n",
       "      <td>E05</td>\n",
       "      <td>010-000-030-096</td>\n",
       "      <td>633790146419554374</td>\n",
       "      <td>27.05.2009 11:50:41:957</td>\n",
       "      <td>3.209474</td>\n",
       "      <td>2.044571</td>\n",
       "      <td>0.062902</td>\n",
       "      <td>walking</td>\n",
       "    </tr>\n",
       "    <tr>\n",
       "      <th>164855</th>\n",
       "      <td>E05</td>\n",
       "      <td>010-000-024-033</td>\n",
       "      <td>633790146419824669</td>\n",
       "      <td>27.05.2009 11:50:41:983</td>\n",
       "      <td>3.386878</td>\n",
       "      <td>2.004729</td>\n",
       "      <td>0.395161</td>\n",
       "      <td>walking</td>\n",
       "    </tr>\n",
       "    <tr>\n",
       "      <th>164856</th>\n",
       "      <td>E05</td>\n",
       "      <td>020-000-033-111</td>\n",
       "      <td>633790146420094965</td>\n",
       "      <td>27.05.2009 11:50:42:010</td>\n",
       "      <td>3.188895</td>\n",
       "      <td>1.915717</td>\n",
       "      <td>1.353087</td>\n",
       "      <td>walking</td>\n",
       "    </tr>\n",
       "    <tr>\n",
       "      <th>164857</th>\n",
       "      <td>E05</td>\n",
       "      <td>010-000-030-096</td>\n",
       "      <td>633790146420635550</td>\n",
       "      <td>27.05.2009 11:50:42:063</td>\n",
       "      <td>3.150169</td>\n",
       "      <td>1.931164</td>\n",
       "      <td>0.055037</td>\n",
       "      <td>walking</td>\n",
       "    </tr>\n",
       "    <tr>\n",
       "      <th>164858</th>\n",
       "      <td>E05</td>\n",
       "      <td>010-000-024-033</td>\n",
       "      <td>633790146420905847</td>\n",
       "      <td>27.05.2009 11:50:42:090</td>\n",
       "      <td>3.209994</td>\n",
       "      <td>1.939577</td>\n",
       "      <td>0.364777</td>\n",
       "      <td>walking</td>\n",
       "    </tr>\n",
       "  </tbody>\n",
       "</table>\n",
       "<p>164859 rows × 8 columns</p>\n",
       "</div>"
      ],
      "text/plain": [
       "        A01  010-000-024-033  633790226051280329  27.05.2009 14:03:25:127  \\\n",
       "0       A01  020-000-033-111  633790226051820913  27.05.2009 14:03:25:183   \n",
       "1       A01  020-000-032-221  633790226052091205  27.05.2009 14:03:25:210   \n",
       "2       A01  010-000-024-033  633790226052361498  27.05.2009 14:03:25:237   \n",
       "3       A01  010-000-030-096  633790226052631792  27.05.2009 14:03:25:263   \n",
       "4       A01  020-000-033-111  633790226052902087  27.05.2009 14:03:25:290   \n",
       "...     ...              ...                 ...                      ...   \n",
       "164854  E05  010-000-030-096  633790146419554374  27.05.2009 11:50:41:957   \n",
       "164855  E05  010-000-024-033  633790146419824669  27.05.2009 11:50:41:983   \n",
       "164856  E05  020-000-033-111  633790146420094965  27.05.2009 11:50:42:010   \n",
       "164857  E05  010-000-030-096  633790146420635550  27.05.2009 11:50:42:063   \n",
       "164858  E05  010-000-024-033  633790146420905847  27.05.2009 11:50:42:090   \n",
       "\n",
       "        4.062931060791016  1.8924342393875122  0.5074254274368286  walking  \n",
       "0                4.291954            1.781140            1.344495  walking  \n",
       "1                4.359101            1.826456            0.968821  walking  \n",
       "2                4.087835            1.879999            0.466983  walking  \n",
       "3                4.324462            2.072460            0.488065  walking  \n",
       "4                4.364077            1.767691            1.299996  walking  \n",
       "...                   ...                 ...                 ...      ...  \n",
       "164854           3.209474            2.044571            0.062902  walking  \n",
       "164855           3.386878            2.004729            0.395161  walking  \n",
       "164856           3.188895            1.915717            1.353087  walking  \n",
       "164857           3.150169            1.931164            0.055037  walking  \n",
       "164858           3.209994            1.939577            0.364777  walking  \n",
       "\n",
       "[164859 rows x 8 columns]"
      ]
     },
     "execution_count": 19,
     "metadata": {},
     "output_type": "execute_result"
    }
   ],
   "source": [
    "data"
   ]
  },
  {
   "cell_type": "code",
   "execution_count": 20,
   "id": "485ac123",
   "metadata": {},
   "outputs": [
    {
     "data": {
      "text/html": [
       "<div>\n",
       "<style scoped>\n",
       "    .dataframe tbody tr th:only-of-type {\n",
       "        vertical-align: middle;\n",
       "    }\n",
       "\n",
       "    .dataframe tbody tr th {\n",
       "        vertical-align: top;\n",
       "    }\n",
       "\n",
       "    .dataframe thead th {\n",
       "        text-align: right;\n",
       "    }\n",
       "</style>\n",
       "<table border=\"1\" class=\"dataframe\">\n",
       "  <thead>\n",
       "    <tr style=\"text-align: right;\">\n",
       "      <th></th>\n",
       "      <th>633790226051280329</th>\n",
       "      <th>4.062931060791016</th>\n",
       "      <th>1.8924342393875122</th>\n",
       "      <th>0.5074254274368286</th>\n",
       "    </tr>\n",
       "  </thead>\n",
       "  <tbody>\n",
       "    <tr>\n",
       "      <th>count</th>\n",
       "      <td>1.648590e+05</td>\n",
       "      <td>164859.000000</td>\n",
       "      <td>164859.000000</td>\n",
       "      <td>164859.000000</td>\n",
       "    </tr>\n",
       "    <tr>\n",
       "      <th>mean</th>\n",
       "      <td>6.337902e+17</td>\n",
       "      <td>2.811340</td>\n",
       "      <td>1.696876</td>\n",
       "      <td>0.418210</td>\n",
       "    </tr>\n",
       "    <tr>\n",
       "      <th>std</th>\n",
       "      <td>5.518151e+10</td>\n",
       "      <td>0.916224</td>\n",
       "      <td>0.473770</td>\n",
       "      <td>0.379126</td>\n",
       "    </tr>\n",
       "    <tr>\n",
       "      <th>min</th>\n",
       "      <td>6.337901e+17</td>\n",
       "      <td>-0.278698</td>\n",
       "      <td>-0.494428</td>\n",
       "      <td>-2.543609</td>\n",
       "    </tr>\n",
       "    <tr>\n",
       "      <th>25%</th>\n",
       "      <td>6.337901e+17</td>\n",
       "      <td>2.155760</td>\n",
       "      <td>1.350500</td>\n",
       "      <td>0.171623</td>\n",
       "    </tr>\n",
       "    <tr>\n",
       "      <th>50%</th>\n",
       "      <td>6.337902e+17</td>\n",
       "      <td>2.880421</td>\n",
       "      <td>1.634168</td>\n",
       "      <td>0.366284</td>\n",
       "    </tr>\n",
       "    <tr>\n",
       "      <th>75%</th>\n",
       "      <td>6.337902e+17</td>\n",
       "      <td>3.414092</td>\n",
       "      <td>2.039324</td>\n",
       "      <td>0.613118</td>\n",
       "    </tr>\n",
       "    <tr>\n",
       "      <th>max</th>\n",
       "      <td>6.337903e+17</td>\n",
       "      <td>5.758173</td>\n",
       "      <td>3.978097</td>\n",
       "      <td>2.606105</td>\n",
       "    </tr>\n",
       "  </tbody>\n",
       "</table>\n",
       "</div>"
      ],
      "text/plain": [
       "       633790226051280329  4.062931060791016  1.8924342393875122  \\\n",
       "count        1.648590e+05      164859.000000       164859.000000   \n",
       "mean         6.337902e+17           2.811340            1.696876   \n",
       "std          5.518151e+10           0.916224            0.473770   \n",
       "min          6.337901e+17          -0.278698           -0.494428   \n",
       "25%          6.337901e+17           2.155760            1.350500   \n",
       "50%          6.337902e+17           2.880421            1.634168   \n",
       "75%          6.337902e+17           3.414092            2.039324   \n",
       "max          6.337903e+17           5.758173            3.978097   \n",
       "\n",
       "       0.5074254274368286  \n",
       "count       164859.000000  \n",
       "mean             0.418210  \n",
       "std              0.379126  \n",
       "min             -2.543609  \n",
       "25%              0.171623  \n",
       "50%              0.366284  \n",
       "75%              0.613118  \n",
       "max              2.606105  "
      ]
     },
     "execution_count": 20,
     "metadata": {},
     "output_type": "execute_result"
    }
   ],
   "source": [
    "data.describe()"
   ]
  },
  {
   "cell_type": "code",
   "execution_count": 21,
   "id": "4866d297",
   "metadata": {},
   "outputs": [
    {
     "data": {
      "text/plain": [
       "(164859, 8)"
      ]
     },
     "execution_count": 21,
     "metadata": {},
     "output_type": "execute_result"
    }
   ],
   "source": [
    "data.shape"
   ]
  },
  {
   "cell_type": "code",
   "execution_count": 22,
   "id": "2ed7e797",
   "metadata": {},
   "outputs": [],
   "source": [
    "data.columns = [\"Sequence Name\" , \n",
    "                \"Tag Identificator\" , \n",
    "                \"Time Stamp\" , \n",
    "                \"Data Format\" , \n",
    "                \"X Cordinate\" , \n",
    "                \"Y Cordinate\" , \n",
    "                \"Z Cordinate\" , \n",
    "                \"Activity\"]"
   ]
  },
  {
   "cell_type": "code",
   "execution_count": 23,
   "id": "28a8e0be",
   "metadata": {},
   "outputs": [
    {
     "data": {
      "text/html": [
       "<div>\n",
       "<style scoped>\n",
       "    .dataframe tbody tr th:only-of-type {\n",
       "        vertical-align: middle;\n",
       "    }\n",
       "\n",
       "    .dataframe tbody tr th {\n",
       "        vertical-align: top;\n",
       "    }\n",
       "\n",
       "    .dataframe thead th {\n",
       "        text-align: right;\n",
       "    }\n",
       "</style>\n",
       "<table border=\"1\" class=\"dataframe\">\n",
       "  <thead>\n",
       "    <tr style=\"text-align: right;\">\n",
       "      <th></th>\n",
       "      <th>Sequence Name</th>\n",
       "      <th>Tag Identificator</th>\n",
       "      <th>Time Stamp</th>\n",
       "      <th>Data Format</th>\n",
       "      <th>X Cordinate</th>\n",
       "      <th>Y Cordinate</th>\n",
       "      <th>Z Cordinate</th>\n",
       "      <th>Activity</th>\n",
       "    </tr>\n",
       "  </thead>\n",
       "  <tbody>\n",
       "    <tr>\n",
       "      <th>0</th>\n",
       "      <td>A01</td>\n",
       "      <td>020-000-033-111</td>\n",
       "      <td>633790226051820913</td>\n",
       "      <td>27.05.2009 14:03:25:183</td>\n",
       "      <td>4.291954</td>\n",
       "      <td>1.781140</td>\n",
       "      <td>1.344495</td>\n",
       "      <td>walking</td>\n",
       "    </tr>\n",
       "    <tr>\n",
       "      <th>1</th>\n",
       "      <td>A01</td>\n",
       "      <td>020-000-032-221</td>\n",
       "      <td>633790226052091205</td>\n",
       "      <td>27.05.2009 14:03:25:210</td>\n",
       "      <td>4.359101</td>\n",
       "      <td>1.826456</td>\n",
       "      <td>0.968821</td>\n",
       "      <td>walking</td>\n",
       "    </tr>\n",
       "    <tr>\n",
       "      <th>2</th>\n",
       "      <td>A01</td>\n",
       "      <td>010-000-024-033</td>\n",
       "      <td>633790226052361498</td>\n",
       "      <td>27.05.2009 14:03:25:237</td>\n",
       "      <td>4.087835</td>\n",
       "      <td>1.879999</td>\n",
       "      <td>0.466983</td>\n",
       "      <td>walking</td>\n",
       "    </tr>\n",
       "    <tr>\n",
       "      <th>3</th>\n",
       "      <td>A01</td>\n",
       "      <td>010-000-030-096</td>\n",
       "      <td>633790226052631792</td>\n",
       "      <td>27.05.2009 14:03:25:263</td>\n",
       "      <td>4.324462</td>\n",
       "      <td>2.072460</td>\n",
       "      <td>0.488065</td>\n",
       "      <td>walking</td>\n",
       "    </tr>\n",
       "    <tr>\n",
       "      <th>4</th>\n",
       "      <td>A01</td>\n",
       "      <td>020-000-033-111</td>\n",
       "      <td>633790226052902087</td>\n",
       "      <td>27.05.2009 14:03:25:290</td>\n",
       "      <td>4.364077</td>\n",
       "      <td>1.767691</td>\n",
       "      <td>1.299996</td>\n",
       "      <td>walking</td>\n",
       "    </tr>\n",
       "  </tbody>\n",
       "</table>\n",
       "</div>"
      ],
      "text/plain": [
       "  Sequence Name Tag Identificator          Time Stamp  \\\n",
       "0           A01   020-000-033-111  633790226051820913   \n",
       "1           A01   020-000-032-221  633790226052091205   \n",
       "2           A01   010-000-024-033  633790226052361498   \n",
       "3           A01   010-000-030-096  633790226052631792   \n",
       "4           A01   020-000-033-111  633790226052902087   \n",
       "\n",
       "               Data Format  X Cordinate  Y Cordinate  Z Cordinate Activity  \n",
       "0  27.05.2009 14:03:25:183     4.291954     1.781140     1.344495  walking  \n",
       "1  27.05.2009 14:03:25:210     4.359101     1.826456     0.968821  walking  \n",
       "2  27.05.2009 14:03:25:237     4.087835     1.879999     0.466983  walking  \n",
       "3  27.05.2009 14:03:25:263     4.324462     2.072460     0.488065  walking  \n",
       "4  27.05.2009 14:03:25:290     4.364077     1.767691     1.299996  walking  "
      ]
     },
     "execution_count": 23,
     "metadata": {},
     "output_type": "execute_result"
    }
   ],
   "source": [
    "data.head()"
   ]
  },
  {
   "cell_type": "code",
   "execution_count": 24,
   "id": "2733bb46",
   "metadata": {},
   "outputs": [
    {
     "name": "stdout",
     "output_type": "stream",
     "text": [
      "<class 'pandas.core.frame.DataFrame'>\n",
      "RangeIndex: 164859 entries, 0 to 164858\n",
      "Data columns (total 8 columns):\n",
      " #   Column             Non-Null Count   Dtype  \n",
      "---  ------             --------------   -----  \n",
      " 0   Sequence Name      164859 non-null  object \n",
      " 1   Tag Identificator  164859 non-null  object \n",
      " 2   Time Stamp         164859 non-null  int64  \n",
      " 3   Data Format        164859 non-null  object \n",
      " 4   X Cordinate        164859 non-null  float64\n",
      " 5   Y Cordinate        164859 non-null  float64\n",
      " 6   Z Cordinate        164859 non-null  float64\n",
      " 7   Activity           164859 non-null  object \n",
      "dtypes: float64(3), int64(1), object(4)\n",
      "memory usage: 10.1+ MB\n"
     ]
    }
   ],
   "source": [
    "data.info()"
   ]
  },
  {
   "cell_type": "code",
   "execution_count": 25,
   "id": "d758ce29",
   "metadata": {},
   "outputs": [
    {
     "data": {
      "text/html": [
       "<div>\n",
       "<style scoped>\n",
       "    .dataframe tbody tr th:only-of-type {\n",
       "        vertical-align: middle;\n",
       "    }\n",
       "\n",
       "    .dataframe tbody tr th {\n",
       "        vertical-align: top;\n",
       "    }\n",
       "\n",
       "    .dataframe thead th {\n",
       "        text-align: right;\n",
       "    }\n",
       "</style>\n",
       "<table border=\"1\" class=\"dataframe\">\n",
       "  <thead>\n",
       "    <tr style=\"text-align: right;\">\n",
       "      <th></th>\n",
       "      <th>Sequence Name</th>\n",
       "      <th>Tag Identificator</th>\n",
       "      <th>Time Stamp</th>\n",
       "      <th>Data Format</th>\n",
       "      <th>X Cordinate</th>\n",
       "      <th>Y Cordinate</th>\n",
       "      <th>Z Cordinate</th>\n",
       "      <th>Activity</th>\n",
       "    </tr>\n",
       "  </thead>\n",
       "  <tbody>\n",
       "    <tr>\n",
       "      <th>count</th>\n",
       "      <td>164859</td>\n",
       "      <td>164859</td>\n",
       "      <td>1.648590e+05</td>\n",
       "      <td>164859</td>\n",
       "      <td>164859.000000</td>\n",
       "      <td>164859.000000</td>\n",
       "      <td>164859.000000</td>\n",
       "      <td>164859</td>\n",
       "    </tr>\n",
       "    <tr>\n",
       "      <th>unique</th>\n",
       "      <td>25</td>\n",
       "      <td>4</td>\n",
       "      <td>NaN</td>\n",
       "      <td>164833</td>\n",
       "      <td>NaN</td>\n",
       "      <td>NaN</td>\n",
       "      <td>NaN</td>\n",
       "      <td>11</td>\n",
       "    </tr>\n",
       "    <tr>\n",
       "      <th>top</th>\n",
       "      <td>E03</td>\n",
       "      <td>010-000-024-033</td>\n",
       "      <td>NaN</td>\n",
       "      <td>27.05.2009 12:09:03:780</td>\n",
       "      <td>NaN</td>\n",
       "      <td>NaN</td>\n",
       "      <td>NaN</td>\n",
       "      <td>lying</td>\n",
       "    </tr>\n",
       "    <tr>\n",
       "      <th>freq</th>\n",
       "      <td>9112</td>\n",
       "      <td>43525</td>\n",
       "      <td>NaN</td>\n",
       "      <td>4</td>\n",
       "      <td>NaN</td>\n",
       "      <td>NaN</td>\n",
       "      <td>NaN</td>\n",
       "      <td>54480</td>\n",
       "    </tr>\n",
       "    <tr>\n",
       "      <th>mean</th>\n",
       "      <td>NaN</td>\n",
       "      <td>NaN</td>\n",
       "      <td>6.337902e+17</td>\n",
       "      <td>NaN</td>\n",
       "      <td>2.811340</td>\n",
       "      <td>1.696876</td>\n",
       "      <td>0.418210</td>\n",
       "      <td>NaN</td>\n",
       "    </tr>\n",
       "    <tr>\n",
       "      <th>std</th>\n",
       "      <td>NaN</td>\n",
       "      <td>NaN</td>\n",
       "      <td>5.518151e+10</td>\n",
       "      <td>NaN</td>\n",
       "      <td>0.916224</td>\n",
       "      <td>0.473770</td>\n",
       "      <td>0.379126</td>\n",
       "      <td>NaN</td>\n",
       "    </tr>\n",
       "    <tr>\n",
       "      <th>min</th>\n",
       "      <td>NaN</td>\n",
       "      <td>NaN</td>\n",
       "      <td>6.337901e+17</td>\n",
       "      <td>NaN</td>\n",
       "      <td>-0.278698</td>\n",
       "      <td>-0.494428</td>\n",
       "      <td>-2.543609</td>\n",
       "      <td>NaN</td>\n",
       "    </tr>\n",
       "    <tr>\n",
       "      <th>25%</th>\n",
       "      <td>NaN</td>\n",
       "      <td>NaN</td>\n",
       "      <td>6.337901e+17</td>\n",
       "      <td>NaN</td>\n",
       "      <td>2.155760</td>\n",
       "      <td>1.350500</td>\n",
       "      <td>0.171623</td>\n",
       "      <td>NaN</td>\n",
       "    </tr>\n",
       "    <tr>\n",
       "      <th>50%</th>\n",
       "      <td>NaN</td>\n",
       "      <td>NaN</td>\n",
       "      <td>6.337902e+17</td>\n",
       "      <td>NaN</td>\n",
       "      <td>2.880421</td>\n",
       "      <td>1.634168</td>\n",
       "      <td>0.366284</td>\n",
       "      <td>NaN</td>\n",
       "    </tr>\n",
       "    <tr>\n",
       "      <th>75%</th>\n",
       "      <td>NaN</td>\n",
       "      <td>NaN</td>\n",
       "      <td>6.337902e+17</td>\n",
       "      <td>NaN</td>\n",
       "      <td>3.414092</td>\n",
       "      <td>2.039324</td>\n",
       "      <td>0.613118</td>\n",
       "      <td>NaN</td>\n",
       "    </tr>\n",
       "    <tr>\n",
       "      <th>max</th>\n",
       "      <td>NaN</td>\n",
       "      <td>NaN</td>\n",
       "      <td>6.337903e+17</td>\n",
       "      <td>NaN</td>\n",
       "      <td>5.758173</td>\n",
       "      <td>3.978097</td>\n",
       "      <td>2.606105</td>\n",
       "      <td>NaN</td>\n",
       "    </tr>\n",
       "  </tbody>\n",
       "</table>\n",
       "</div>"
      ],
      "text/plain": [
       "       Sequence Name Tag Identificator    Time Stamp              Data Format  \\\n",
       "count         164859            164859  1.648590e+05                   164859   \n",
       "unique            25                 4           NaN                   164833   \n",
       "top              E03   010-000-024-033           NaN  27.05.2009 12:09:03:780   \n",
       "freq            9112             43525           NaN                        4   \n",
       "mean             NaN               NaN  6.337902e+17                      NaN   \n",
       "std              NaN               NaN  5.518151e+10                      NaN   \n",
       "min              NaN               NaN  6.337901e+17                      NaN   \n",
       "25%              NaN               NaN  6.337901e+17                      NaN   \n",
       "50%              NaN               NaN  6.337902e+17                      NaN   \n",
       "75%              NaN               NaN  6.337902e+17                      NaN   \n",
       "max              NaN               NaN  6.337903e+17                      NaN   \n",
       "\n",
       "          X Cordinate    Y Cordinate    Z Cordinate Activity  \n",
       "count   164859.000000  164859.000000  164859.000000   164859  \n",
       "unique            NaN            NaN            NaN       11  \n",
       "top               NaN            NaN            NaN    lying  \n",
       "freq              NaN            NaN            NaN    54480  \n",
       "mean         2.811340       1.696876       0.418210      NaN  \n",
       "std          0.916224       0.473770       0.379126      NaN  \n",
       "min         -0.278698      -0.494428      -2.543609      NaN  \n",
       "25%          2.155760       1.350500       0.171623      NaN  \n",
       "50%          2.880421       1.634168       0.366284      NaN  \n",
       "75%          3.414092       2.039324       0.613118      NaN  \n",
       "max          5.758173       3.978097       2.606105      NaN  "
      ]
     },
     "execution_count": 25,
     "metadata": {},
     "output_type": "execute_result"
    }
   ],
   "source": [
    "data.describe(include = \"all\")"
   ]
  },
  {
   "cell_type": "code",
   "execution_count": 26,
   "id": "bb10aae8",
   "metadata": {},
   "outputs": [
    {
     "data": {
      "text/html": [
       "<div>\n",
       "<style scoped>\n",
       "    .dataframe tbody tr th:only-of-type {\n",
       "        vertical-align: middle;\n",
       "    }\n",
       "\n",
       "    .dataframe tbody tr th {\n",
       "        vertical-align: top;\n",
       "    }\n",
       "\n",
       "    .dataframe thead th {\n",
       "        text-align: right;\n",
       "    }\n",
       "</style>\n",
       "<table border=\"1\" class=\"dataframe\">\n",
       "  <thead>\n",
       "    <tr style=\"text-align: right;\">\n",
       "      <th></th>\n",
       "      <th>Time Stamp</th>\n",
       "      <th>X Cordinate</th>\n",
       "      <th>Y Cordinate</th>\n",
       "      <th>Z Cordinate</th>\n",
       "    </tr>\n",
       "  </thead>\n",
       "  <tbody>\n",
       "    <tr>\n",
       "      <th>count</th>\n",
       "      <td>1.648590e+05</td>\n",
       "      <td>164859.000000</td>\n",
       "      <td>164859.000000</td>\n",
       "      <td>164859.000000</td>\n",
       "    </tr>\n",
       "    <tr>\n",
       "      <th>mean</th>\n",
       "      <td>6.337902e+17</td>\n",
       "      <td>2.811340</td>\n",
       "      <td>1.696876</td>\n",
       "      <td>0.418210</td>\n",
       "    </tr>\n",
       "    <tr>\n",
       "      <th>std</th>\n",
       "      <td>5.518151e+10</td>\n",
       "      <td>0.916224</td>\n",
       "      <td>0.473770</td>\n",
       "      <td>0.379126</td>\n",
       "    </tr>\n",
       "    <tr>\n",
       "      <th>min</th>\n",
       "      <td>6.337901e+17</td>\n",
       "      <td>-0.278698</td>\n",
       "      <td>-0.494428</td>\n",
       "      <td>-2.543609</td>\n",
       "    </tr>\n",
       "    <tr>\n",
       "      <th>25%</th>\n",
       "      <td>6.337901e+17</td>\n",
       "      <td>2.155760</td>\n",
       "      <td>1.350500</td>\n",
       "      <td>0.171623</td>\n",
       "    </tr>\n",
       "    <tr>\n",
       "      <th>50%</th>\n",
       "      <td>6.337902e+17</td>\n",
       "      <td>2.880421</td>\n",
       "      <td>1.634168</td>\n",
       "      <td>0.366284</td>\n",
       "    </tr>\n",
       "    <tr>\n",
       "      <th>75%</th>\n",
       "      <td>6.337902e+17</td>\n",
       "      <td>3.414092</td>\n",
       "      <td>2.039324</td>\n",
       "      <td>0.613118</td>\n",
       "    </tr>\n",
       "    <tr>\n",
       "      <th>max</th>\n",
       "      <td>6.337903e+17</td>\n",
       "      <td>5.758173</td>\n",
       "      <td>3.978097</td>\n",
       "      <td>2.606105</td>\n",
       "    </tr>\n",
       "  </tbody>\n",
       "</table>\n",
       "</div>"
      ],
      "text/plain": [
       "         Time Stamp    X Cordinate    Y Cordinate    Z Cordinate\n",
       "count  1.648590e+05  164859.000000  164859.000000  164859.000000\n",
       "mean   6.337902e+17       2.811340       1.696876       0.418210\n",
       "std    5.518151e+10       0.916224       0.473770       0.379126\n",
       "min    6.337901e+17      -0.278698      -0.494428      -2.543609\n",
       "25%    6.337901e+17       2.155760       1.350500       0.171623\n",
       "50%    6.337902e+17       2.880421       1.634168       0.366284\n",
       "75%    6.337902e+17       3.414092       2.039324       0.613118\n",
       "max    6.337903e+17       5.758173       3.978097       2.606105"
      ]
     },
     "execution_count": 26,
     "metadata": {},
     "output_type": "execute_result"
    }
   ],
   "source": [
    "data.describe()"
   ]
  },
  {
   "cell_type": "code",
   "execution_count": 27,
   "id": "2e98e1a7",
   "metadata": {},
   "outputs": [
    {
     "name": "stdout",
     "output_type": "stream",
     "text": [
      "Name of column :  Sequence Name\n",
      "No. of Unique Values :  25\n",
      "Unique Values : \n",
      " ['A01' 'A02' 'A03' 'A04' 'A05' 'B01' 'B02' 'B03' 'B04' 'B05' 'C01' 'C02'\n",
      " 'C03' 'C04' 'C05' 'D01' 'D02' 'D03' 'D04' 'D05' 'E01' 'E02' 'E03' 'E04'\n",
      " 'E05']\n",
      "\n",
      "\n",
      "************************************************************\n",
      "\n",
      "\n",
      "Name of column :  Tag Identificator\n",
      "No. of Unique Values :  4\n",
      "Unique Values : \n",
      " ['020-000-033-111' '020-000-032-221' '010-000-024-033' '010-000-030-096']\n",
      "\n",
      "\n",
      "************************************************************\n",
      "\n",
      "\n",
      "Name of column :  Data Format\n",
      "No. of Unique Values :  164833\n",
      "Unique Values : \n",
      " ['27.05.2009 14:03:25:183' '27.05.2009 14:03:25:210'\n",
      " '27.05.2009 14:03:25:237' ... '27.05.2009 11:50:42:010'\n",
      " '27.05.2009 11:50:42:063' '27.05.2009 11:50:42:090']\n",
      "\n",
      "\n",
      "************************************************************\n",
      "\n",
      "\n",
      "Name of column :  Activity\n",
      "No. of Unique Values :  11\n",
      "Unique Values : \n",
      " ['walking' 'sitting down' 'sitting' 'standing up from sitting' 'falling'\n",
      " 'lying' 'standing up from lying' 'lying down' 'sitting on the ground'\n",
      " 'standing up from sitting on the ground' 'on all fours']\n",
      "\n",
      "\n",
      "************************************************************\n",
      "\n",
      "\n"
     ]
    }
   ],
   "source": [
    "cat = data.select_dtypes(include='object').columns.to_list() # Extracting all categorical values to list\n",
    "#cat.remove(\"date_FORMAT\") # Removing Date \n",
    "for i in cat:\n",
    "    print(\"Name of column : \", i)\n",
    "    print(\"No. of Unique Values : \", data[i].nunique())\n",
    "    print(\"Unique Values : \\n\", data[i].unique()) \n",
    "    print()\n",
    "    print()\n",
    "    print('*'*60)\n",
    "    print()\n",
    "    print()"
   ]
  },
  {
   "cell_type": "code",
   "execution_count": 28,
   "id": "91fa33a7",
   "metadata": {},
   "outputs": [],
   "source": [
    "def encoding(df):\n",
    "    \n",
    "    tag_encoder = LabelEncoder()\n",
    "    sequence_encoder =  LabelEncoder()\n",
    "    activity_encoder = LabelEncoder()\n",
    "\n",
    "    df['Tag Identificator'] = tag_encoder.fit_transform(df['Tag Identificator'])\n",
    "    df['Sequence Name'] = sequence_encoder.fit_transform(df['Sequence Name'])\n",
    "    df['Activity'] = activity_encoder.fit_transform(df['Activity'])\n",
    "    \n",
    "    return \"Successful\""
   ]
  },
  {
   "cell_type": "code",
   "execution_count": 29,
   "id": "a0fa9d59",
   "metadata": {},
   "outputs": [
    {
     "name": "stderr",
     "output_type": "stream",
     "text": [
      "C:\\Users\\user\\AppData\\Local\\Programs\\Python\\Python310\\lib\\site-packages\\seaborn\\_decorators.py:36: FutureWarning: Pass the following variable as a keyword arg: x. From version 0.12, the only valid positional argument will be `data`, and passing other arguments without an explicit keyword will result in an error or misinterpretation.\n",
      "  warnings.warn(\n"
     ]
    },
    {
     "data": {
      "image/png": "[encoded data removed]",
      "text/plain": [
       "<Figure size 432x288 with 1 Axes>"
      ]
     },
     "metadata": {
      "needs_background": "light"
     },
     "output_type": "display_data"
    },
    {
     "name": "stderr",
     "output_type": "stream",
     "text": [
      "C:\\Users\\user\\AppData\\Local\\Programs\\Python\\Python310\\lib\\site-packages\\seaborn\\_decorators.py:36: FutureWarning: Pass the following variable as a keyword arg: x. From version 0.12, the only valid positional argument will be `data`, and passing other arguments without an explicit keyword will result in an error or misinterpretation.\n",
      "  warnings.warn(\n"
     ]
    },
    {
     "data": {
      "image/png": "[encoded data removed]",
      "text/plain": [
       "<Figure size 432x288 with 1 Axes>"
      ]
     },
     "metadata": {
      "needs_background": "light"
     },
     "output_type": "display_data"
    },
    {
     "name": "stderr",
     "output_type": "stream",
     "text": [
      "C:\\Users\\user\\AppData\\Local\\Programs\\Python\\Python310\\lib\\site-packages\\seaborn\\_decorators.py:36: FutureWarning: Pass the following variable as a keyword arg: x. From version 0.12, the only valid positional argument will be `data`, and passing other arguments without an explicit keyword will result in an error or misinterpretation.\n",
      "  warnings.warn(\n"
     ]
    },
    {
     "data": {
      "image/png": "[encoded data removed]",
      "text/plain": [
       "<Figure size 432x288 with 1 Axes>"
      ]
     },
     "metadata": {
      "needs_background": "light"
     },
     "output_type": "display_data"
    },
    {
     "name": "stderr",
     "output_type": "stream",
     "text": [
      "C:\\Users\\user\\AppData\\Local\\Programs\\Python\\Python310\\lib\\site-packages\\seaborn\\_decorators.py:36: FutureWarning: Pass the following variable as a keyword arg: x. From version 0.12, the only valid positional argument will be `data`, and passing other arguments without an explicit keyword will result in an error or misinterpretation.\n",
      "  warnings.warn(\n"
     ]
    },
    {
     "data": {
      "image/png": "[encoded data removed]",
      "text/plain": [
       "<Figure size 432x288 with 1 Axes>"
      ]
     },
     "metadata": {
      "needs_background": "light"
     },
     "output_type": "display_data"
    }
   ],
   "source": [
    "for i in data.select_dtypes(include = [\"int64\" , 'float64']):\n",
    "    sns.boxplot(data[i])\n",
    "    plt.show()"
   ]
  },
  {
   "cell_type": "code",
   "execution_count": 30,
   "id": "f86b853f",
   "metadata": {},
   "outputs": [
    {
     "data": {
      "image/png": "[encoded data removed]",
      "text/plain": [
       "<Figure size 360x360 with 1 Axes>"
      ]
     },
     "metadata": {
      "needs_background": "light"
     },
     "output_type": "display_data"
    },
    {
     "data": {
      "image/png": "[encoded data removed]",
      "text/plain": [
       "<Figure size 360x360 with 1 Axes>"
      ]
     },
     "metadata": {
      "needs_background": "light"
     },
     "output_type": "display_data"
    },
    {
     "data": {
      "image/png": "[encoded data removed]",
      "text/plain": [
       "<Figure size 360x360 with 1 Axes>"
      ]
     },
     "metadata": {
      "needs_background": "light"
     },
     "output_type": "display_data"
    },
    {
     "data": {
      "image/png": "[encoded data removed]",
      "text/plain": [
       "<Figure size 360x360 with 1 Axes>"
      ]
     },
     "metadata": {
      "needs_background": "light"
     },
     "output_type": "display_data"
    }
   ],
   "source": [
    "for i in data.select_dtypes(include = [\"int64\" , 'float64']):\n",
    "    sns.displot(data[i])\n",
    "    plt.show()"
   ]
  },
  {
   "cell_type": "code",
   "execution_count": 31,
   "id": "cdfcc2e4",
   "metadata": {},
   "outputs": [
    {
     "data": {
      "text/plain": [
       "<mpl_toolkits.mplot3d.art3d.Path3DCollection at 0x24b52d7c3a0>"
      ]
     },
     "execution_count": 31,
     "metadata": {},
     "output_type": "execute_result"
    },
    {
     "data": {
      "image/png": "[encoded data removed]",
      "text/plain": [
       "<Figure size 432x288 with 1 Axes>"
      ]
     },
     "metadata": {
      "needs_background": "light"
     },
     "output_type": "display_data"
    }
   ],
   "source": [
    "fig = plt.figure()\n",
    "ax = plt.axes(projection = '3d')\n",
    "ax.scatter3D(data['X Cordinate'],\n",
    "            data['Y Cordinate'],\n",
    "            data['Z Cordinate'],\n",
    "            c = data['Z Cordinate'], \n",
    "            cmap = 'Greens')\n"
   ]
  },
  {
   "cell_type": "code",
   "execution_count": 32,
   "id": "2c916dfc",
   "metadata": {},
   "outputs": [],
   "source": [
    "def new_col(df):\n",
    "    df['Data Format'] = pd.to_datetime(df['Data Format'], format = '%d.%m.%Y %H:%M:%S:%f')\n",
    "    df['Day'] = df['Data Format'].dt.day\n",
    "    df['Month'] = df['Data Format'].dt.month\n",
    "    df['Year'] = df['Data Format'].dt.year\n",
    "    df['Hour'] = df['Data Format'].dt.hour\n",
    "    df['Minute'] = df['Data Format'].dt.minute\n",
    "    df['Second'] = df['Data Format'].dt.second\n",
    "    df['Microsecond'] = df['Data Format'].dt.microsecond\n",
    "    \n",
    "    del df['Data Format']\n",
    "    \n",
    "    print(\"Seccuessfull\")\n",
    "    "
   ]
  },
  {
   "cell_type": "code",
   "execution_count": 33,
   "id": "404c6409",
   "metadata": {},
   "outputs": [
    {
     "name": "stdout",
     "output_type": "stream",
     "text": [
      "Seccuessfull\n"
     ]
    }
   ],
   "source": [
    "encoding(data)\n",
    "new_col(data)"
   ]
  },
  {
   "cell_type": "code",
   "execution_count": 34,
   "id": "7d48255f",
   "metadata": {},
   "outputs": [
    {
     "data": {
      "text/html": [
       "<div>\n",
       "<style scoped>\n",
       "    .dataframe tbody tr th:only-of-type {\n",
       "        vertical-align: middle;\n",
       "    }\n",
       "\n",
       "    .dataframe tbody tr th {\n",
       "        vertical-align: top;\n",
       "    }\n",
       "\n",
       "    .dataframe thead th {\n",
       "        text-align: right;\n",
       "    }\n",
       "</style>\n",
       "<table border=\"1\" class=\"dataframe\">\n",
       "  <thead>\n",
       "    <tr style=\"text-align: right;\">\n",
       "      <th></th>\n",
       "      <th>Sequence Name</th>\n",
       "      <th>Tag Identificator</th>\n",
       "      <th>Time Stamp</th>\n",
       "      <th>X Cordinate</th>\n",
       "      <th>Y Cordinate</th>\n",
       "      <th>Z Cordinate</th>\n",
       "      <th>Activity</th>\n",
       "      <th>Day</th>\n",
       "      <th>Month</th>\n",
       "      <th>Year</th>\n",
       "      <th>Hour</th>\n",
       "      <th>Minute</th>\n",
       "      <th>Second</th>\n",
       "      <th>Microsecond</th>\n",
       "    </tr>\n",
       "  </thead>\n",
       "  <tbody>\n",
       "    <tr>\n",
       "      <th>0</th>\n",
       "      <td>0</td>\n",
       "      <td>3</td>\n",
       "      <td>633790226051820913</td>\n",
       "      <td>4.291954</td>\n",
       "      <td>1.781140</td>\n",
       "      <td>1.344495</td>\n",
       "      <td>10</td>\n",
       "      <td>27</td>\n",
       "      <td>5</td>\n",
       "      <td>2009</td>\n",
       "      <td>14</td>\n",
       "      <td>3</td>\n",
       "      <td>25</td>\n",
       "      <td>183000</td>\n",
       "    </tr>\n",
       "    <tr>\n",
       "      <th>1</th>\n",
       "      <td>0</td>\n",
       "      <td>2</td>\n",
       "      <td>633790226052091205</td>\n",
       "      <td>4.359101</td>\n",
       "      <td>1.826456</td>\n",
       "      <td>0.968821</td>\n",
       "      <td>10</td>\n",
       "      <td>27</td>\n",
       "      <td>5</td>\n",
       "      <td>2009</td>\n",
       "      <td>14</td>\n",
       "      <td>3</td>\n",
       "      <td>25</td>\n",
       "      <td>210000</td>\n",
       "    </tr>\n",
       "    <tr>\n",
       "      <th>2</th>\n",
       "      <td>0</td>\n",
       "      <td>0</td>\n",
       "      <td>633790226052361498</td>\n",
       "      <td>4.087835</td>\n",
       "      <td>1.879999</td>\n",
       "      <td>0.466983</td>\n",
       "      <td>10</td>\n",
       "      <td>27</td>\n",
       "      <td>5</td>\n",
       "      <td>2009</td>\n",
       "      <td>14</td>\n",
       "      <td>3</td>\n",
       "      <td>25</td>\n",
       "      <td>237000</td>\n",
       "    </tr>\n",
       "    <tr>\n",
       "      <th>3</th>\n",
       "      <td>0</td>\n",
       "      <td>1</td>\n",
       "      <td>633790226052631792</td>\n",
       "      <td>4.324462</td>\n",
       "      <td>2.072460</td>\n",
       "      <td>0.488065</td>\n",
       "      <td>10</td>\n",
       "      <td>27</td>\n",
       "      <td>5</td>\n",
       "      <td>2009</td>\n",
       "      <td>14</td>\n",
       "      <td>3</td>\n",
       "      <td>25</td>\n",
       "      <td>263000</td>\n",
       "    </tr>\n",
       "    <tr>\n",
       "      <th>4</th>\n",
       "      <td>0</td>\n",
       "      <td>3</td>\n",
       "      <td>633790226052902087</td>\n",
       "      <td>4.364077</td>\n",
       "      <td>1.767691</td>\n",
       "      <td>1.299996</td>\n",
       "      <td>10</td>\n",
       "      <td>27</td>\n",
       "      <td>5</td>\n",
       "      <td>2009</td>\n",
       "      <td>14</td>\n",
       "      <td>3</td>\n",
       "      <td>25</td>\n",
       "      <td>290000</td>\n",
       "    </tr>\n",
       "  </tbody>\n",
       "</table>\n",
       "</div>"
      ],
      "text/plain": [
       "   Sequence Name  Tag Identificator          Time Stamp  X Cordinate  \\\n",
       "0              0                  3  633790226051820913     4.291954   \n",
       "1              0                  2  633790226052091205     4.359101   \n",
       "2              0                  0  633790226052361498     4.087835   \n",
       "3              0                  1  633790226052631792     4.324462   \n",
       "4              0                  3  633790226052902087     4.364077   \n",
       "\n",
       "   Y Cordinate  Z Cordinate  Activity  Day  Month  Year  Hour  Minute  Second  \\\n",
       "0     1.781140     1.344495        10   27      5  2009    14       3      25   \n",
       "1     1.826456     0.968821        10   27      5  2009    14       3      25   \n",
       "2     1.879999     0.466983        10   27      5  2009    14       3      25   \n",
       "3     2.072460     0.488065        10   27      5  2009    14       3      25   \n",
       "4     1.767691     1.299996        10   27      5  2009    14       3      25   \n",
       "\n",
       "   Microsecond  \n",
       "0       183000  \n",
       "1       210000  \n",
       "2       237000  \n",
       "3       263000  \n",
       "4       290000  "
      ]
     },
     "execution_count": 34,
     "metadata": {},
     "output_type": "execute_result"
    }
   ],
   "source": [
    "data.head()"
   ]
  },
  {
   "cell_type": "code",
   "execution_count": 35,
   "id": "36c8e3f6",
   "metadata": {},
   "outputs": [
    {
     "data": {
      "image/png": "[encoded data removed]",
      "text/plain": [
       "<Figure size 1440x864 with 2 Axes>"
      ]
     },
     "metadata": {
      "needs_background": "light"
     },
     "output_type": "display_data"
    }
   ],
   "source": [
    "plt.figure(figsize = (20 , 12))\n",
    "sns.heatmap(data.corr(), annot = True)\n",
    "plt.show()"
   ]
  },
  {
   "cell_type": "code",
   "execution_count": 36,
   "id": "ebbb7682",
   "metadata": {},
   "outputs": [
    {
     "data": {
      "text/html": [
       "<div>\n",
       "<style scoped>\n",
       "    .dataframe tbody tr th:only-of-type {\n",
       "        vertical-align: middle;\n",
       "    }\n",
       "\n",
       "    .dataframe tbody tr th {\n",
       "        vertical-align: top;\n",
       "    }\n",
       "\n",
       "    .dataframe thead th {\n",
       "        text-align: right;\n",
       "    }\n",
       "</style>\n",
       "<table border=\"1\" class=\"dataframe\">\n",
       "  <thead>\n",
       "    <tr style=\"text-align: right;\">\n",
       "      <th></th>\n",
       "      <th>Sequence Name</th>\n",
       "      <th>Tag Identificator</th>\n",
       "      <th>Time Stamp</th>\n",
       "      <th>X Cordinate</th>\n",
       "      <th>Y Cordinate</th>\n",
       "      <th>Z Cordinate</th>\n",
       "      <th>Activity</th>\n",
       "      <th>Day</th>\n",
       "      <th>Month</th>\n",
       "      <th>Year</th>\n",
       "      <th>Hour</th>\n",
       "      <th>Minute</th>\n",
       "      <th>Second</th>\n",
       "      <th>Microsecond</th>\n",
       "    </tr>\n",
       "  </thead>\n",
       "  <tbody>\n",
       "    <tr>\n",
       "      <th>count</th>\n",
       "      <td>164859.000000</td>\n",
       "      <td>164859.000000</td>\n",
       "      <td>1.648590e+05</td>\n",
       "      <td>164859.000000</td>\n",
       "      <td>164859.000000</td>\n",
       "      <td>164859.000000</td>\n",
       "      <td>164859.000000</td>\n",
       "      <td>164859.0</td>\n",
       "      <td>164859.0</td>\n",
       "      <td>164859.0</td>\n",
       "      <td>164859.000000</td>\n",
       "      <td>164859.000000</td>\n",
       "      <td>164859.000000</td>\n",
       "      <td>164859.000000</td>\n",
       "    </tr>\n",
       "    <tr>\n",
       "      <th>mean</th>\n",
       "      <td>12.999454</td>\n",
       "      <td>1.430974</td>\n",
       "      <td>6.337902e+17</td>\n",
       "      <td>2.811340</td>\n",
       "      <td>1.696876</td>\n",
       "      <td>0.418210</td>\n",
       "      <td>4.627730</td>\n",
       "      <td>27.0</td>\n",
       "      <td>5.0</td>\n",
       "      <td>2009.0</td>\n",
       "      <td>12.823461</td>\n",
       "      <td>25.174028</td>\n",
       "      <td>29.470548</td>\n",
       "      <td>498550.324823</td>\n",
       "    </tr>\n",
       "    <tr>\n",
       "      <th>std</th>\n",
       "      <td>7.326742</td>\n",
       "      <td>1.098905</td>\n",
       "      <td>5.518151e+10</td>\n",
       "      <td>0.916224</td>\n",
       "      <td>0.473770</td>\n",
       "      <td>0.379126</td>\n",
       "      <td>3.472324</td>\n",
       "      <td>0.0</td>\n",
       "      <td>0.0</td>\n",
       "      <td>0.0</td>\n",
       "      <td>1.470954</td>\n",
       "      <td>14.484882</td>\n",
       "      <td>17.306563</td>\n",
       "      <td>288620.820981</td>\n",
       "    </tr>\n",
       "    <tr>\n",
       "      <th>min</th>\n",
       "      <td>0.000000</td>\n",
       "      <td>0.000000</td>\n",
       "      <td>6.337901e+17</td>\n",
       "      <td>-0.278698</td>\n",
       "      <td>-0.494428</td>\n",
       "      <td>-2.543609</td>\n",
       "      <td>0.000000</td>\n",
       "      <td>27.0</td>\n",
       "      <td>5.0</td>\n",
       "      <td>2009.0</td>\n",
       "      <td>11.000000</td>\n",
       "      <td>0.000000</td>\n",
       "      <td>0.000000</td>\n",
       "      <td>0.000000</td>\n",
       "    </tr>\n",
       "    <tr>\n",
       "      <th>25%</th>\n",
       "      <td>7.000000</td>\n",
       "      <td>0.000000</td>\n",
       "      <td>6.337901e+17</td>\n",
       "      <td>2.155760</td>\n",
       "      <td>1.350500</td>\n",
       "      <td>0.171623</td>\n",
       "      <td>1.000000</td>\n",
       "      <td>27.0</td>\n",
       "      <td>5.0</td>\n",
       "      <td>2009.0</td>\n",
       "      <td>11.000000</td>\n",
       "      <td>12.000000</td>\n",
       "      <td>15.000000</td>\n",
       "      <td>250000.000000</td>\n",
       "    </tr>\n",
       "    <tr>\n",
       "      <th>50%</th>\n",
       "      <td>13.000000</td>\n",
       "      <td>1.000000</td>\n",
       "      <td>6.337902e+17</td>\n",
       "      <td>2.880421</td>\n",
       "      <td>1.634168</td>\n",
       "      <td>0.366284</td>\n",
       "      <td>4.000000</td>\n",
       "      <td>27.0</td>\n",
       "      <td>5.0</td>\n",
       "      <td>2009.0</td>\n",
       "      <td>13.000000</td>\n",
       "      <td>25.000000</td>\n",
       "      <td>29.000000</td>\n",
       "      <td>500000.000000</td>\n",
       "    </tr>\n",
       "    <tr>\n",
       "      <th>75%</th>\n",
       "      <td>20.000000</td>\n",
       "      <td>2.000000</td>\n",
       "      <td>6.337902e+17</td>\n",
       "      <td>3.414092</td>\n",
       "      <td>2.039324</td>\n",
       "      <td>0.613118</td>\n",
       "      <td>7.000000</td>\n",
       "      <td>27.0</td>\n",
       "      <td>5.0</td>\n",
       "      <td>2009.0</td>\n",
       "      <td>14.000000</td>\n",
       "      <td>35.000000</td>\n",
       "      <td>44.000000</td>\n",
       "      <td>750000.000000</td>\n",
       "    </tr>\n",
       "    <tr>\n",
       "      <th>max</th>\n",
       "      <td>24.000000</td>\n",
       "      <td>3.000000</td>\n",
       "      <td>6.337903e+17</td>\n",
       "      <td>5.758173</td>\n",
       "      <td>3.978097</td>\n",
       "      <td>2.606105</td>\n",
       "      <td>10.000000</td>\n",
       "      <td>27.0</td>\n",
       "      <td>5.0</td>\n",
       "      <td>2009.0</td>\n",
       "      <td>15.000000</td>\n",
       "      <td>59.000000</td>\n",
       "      <td>59.000000</td>\n",
       "      <td>997000.000000</td>\n",
       "    </tr>\n",
       "  </tbody>\n",
       "</table>\n",
       "</div>"
      ],
      "text/plain": [
       "       Sequence Name  Tag Identificator    Time Stamp    X Cordinate  \\\n",
       "count  164859.000000      164859.000000  1.648590e+05  164859.000000   \n",
       "mean       12.999454           1.430974  6.337902e+17       2.811340   \n",
       "std         7.326742           1.098905  5.518151e+10       0.916224   \n",
       "min         0.000000           0.000000  6.337901e+17      -0.278698   \n",
       "25%         7.000000           0.000000  6.337901e+17       2.155760   \n",
       "50%        13.000000           1.000000  6.337902e+17       2.880421   \n",
       "75%        20.000000           2.000000  6.337902e+17       3.414092   \n",
       "max        24.000000           3.000000  6.337903e+17       5.758173   \n",
       "\n",
       "         Y Cordinate    Z Cordinate       Activity       Day     Month  \\\n",
       "count  164859.000000  164859.000000  164859.000000  164859.0  164859.0   \n",
       "mean        1.696876       0.418210       4.627730      27.0       5.0   \n",
       "std         0.473770       0.379126       3.472324       0.0       0.0   \n",
       "min        -0.494428      -2.543609       0.000000      27.0       5.0   \n",
       "25%         1.350500       0.171623       1.000000      27.0       5.0   \n",
       "50%         1.634168       0.366284       4.000000      27.0       5.0   \n",
       "75%         2.039324       0.613118       7.000000      27.0       5.0   \n",
       "max         3.978097       2.606105      10.000000      27.0       5.0   \n",
       "\n",
       "           Year           Hour         Minute         Second    Microsecond  \n",
       "count  164859.0  164859.000000  164859.000000  164859.000000  164859.000000  \n",
       "mean     2009.0      12.823461      25.174028      29.470548  498550.324823  \n",
       "std         0.0       1.470954      14.484882      17.306563  288620.820981  \n",
       "min      2009.0      11.000000       0.000000       0.000000       0.000000  \n",
       "25%      2009.0      11.000000      12.000000      15.000000  250000.000000  \n",
       "50%      2009.0      13.000000      25.000000      29.000000  500000.000000  \n",
       "75%      2009.0      14.000000      35.000000      44.000000  750000.000000  \n",
       "max      2009.0      15.000000      59.000000      59.000000  997000.000000  "
      ]
     },
     "execution_count": 36,
     "metadata": {},
     "output_type": "execute_result"
    }
   ],
   "source": [
    "data.describe(include = 'all')"
   ]
  },
  {
   "cell_type": "code",
   "execution_count": 37,
   "id": "7e0d4669",
   "metadata": {},
   "outputs": [
    {
     "name": "stdout",
     "output_type": "stream",
     "text": [
      "Name of the column :  Day\n",
      "No of the unique values :  1\n",
      "Unique Values :  [27]\n",
      "\n",
      "\n",
      "************************************************************\n",
      "\n",
      "\n",
      "Name of the column :  Month\n",
      "No of the unique values :  1\n",
      "Unique Values :  [5]\n",
      "\n",
      "\n",
      "************************************************************\n",
      "\n",
      "\n",
      "Name of the column :  Year\n",
      "No of the unique values :  1\n",
      "Unique Values :  [2009]\n",
      "\n",
      "\n",
      "************************************************************\n",
      "\n",
      "\n",
      "Name of the column :  Hour\n",
      "No of the unique values :  5\n",
      "Unique Values :  [14 13 15 11 12]\n",
      "\n",
      "\n",
      "************************************************************\n",
      "\n",
      "\n",
      "Name of the column :  Minute\n",
      "No of the unique values :  52\n",
      "Unique Values :  [ 3  4  5  6 10 11 12 13 17 18 19 20 22 23 24 25 29 30 31 32 21 26 27 28\n",
      " 33 34 37 38 39 40 45 46 47 48  7  8  9 35 36 44 49 50 51 52 53 59  0  1\n",
      "  2 14 15 16]\n",
      "\n",
      "\n",
      "************************************************************\n",
      "\n",
      "\n",
      "Name of the column :  Second\n",
      "No of the unique values :  60\n",
      "Unique Values :  [25 26 27 28 29 30 31 32 33 34 35 36 37 38 39 40 41 42 43 44 45 46 47 48\n",
      " 49 50 51 52 53 54 55 56 57 58 59  0  1  2  3  4  5  6  7  8  9 10 11 12\n",
      " 13 14 15 16 17 18 19 20 21 22 23 24]\n",
      "\n",
      "\n",
      "************************************************************\n",
      "\n",
      "\n",
      "Name of the column :  Microsecond\n",
      "No of the unique values :  300\n",
      "Unique Values :  [183000 210000 237000 263000 290000 317000 343000 397000 453000 480000\n",
      " 507000 533000 560000 640000 670000 697000 723000 750000 777000 857000\n",
      " 883000 913000 940000 993000  47000  73000 100000 127000 157000 370000\n",
      " 400000 427000 587000 613000 643000 830000 967000  20000 803000 887000\n",
      " 130000 373000 617000 860000 103000 347000 590000  77000 833000 320000\n",
      " 563000 807000  50000 293000 537000 780000  67000  93000 120000 147000\n",
      " 177000 203000 230000 283000 310000 337000 363000 390000 420000 447000\n",
      " 500000 527000 553000 580000 607000 633000 663000 717000 743000 770000\n",
      " 797000 823000 850000 877000 933000 960000 987000  13000  40000 257000\n",
      " 473000 690000 907000 150000 393000 637000 880000 367000 123000 610000\n",
      " 853000  97000 340000 583000 827000  70000 303000 330000 357000 413000\n",
      " 440000 493000 520000 547000 573000 600000 627000 657000 710000 763000\n",
      " 790000 817000 843000 870000 927000 953000 980000   7000  33000  60000\n",
      "  87000 143000 170000 197000 223000 250000 277000 383000 467000 683000\n",
      " 113000 387000 737000 900000 630000 873000 117000 360000 847000 603000\n",
      "  90000 333000 577000 820000  63000 307000 550000 793000 300000 327000\n",
      " 353000 380000 407000 437000 463000 490000 517000 570000 597000 623000\n",
      " 650000 680000 707000 733000 787000 813000 840000 867000 893000 923000\n",
      " 950000   3000  30000  57000  83000 110000 137000 220000 247000 273000\n",
      " 543000 760000 903000 930000 957000 983000 173000 200000 227000 417000\n",
      " 443000 470000 660000 687000 713000 653000 897000 977000 140000 167000\n",
      " 193000 410000 267000 483000 510000 727000 753000 997000 970000  23000\n",
      " 213000 240000 457000 700000 943000 513000 540000 593000 620000 647000\n",
      " 673000 757000 810000 837000 863000 890000 917000  27000  53000  80000\n",
      " 107000 133000 160000 187000 270000 297000 323000 350000 403000 567000\n",
      " 783000      0 377000 430000 243000 487000 730000 973000 217000 460000\n",
      " 703000 947000 190000 433000 677000 920000 163000 450000 477000 503000\n",
      " 667000 693000 720000 747000 910000 937000 963000  17000 153000 180000\n",
      " 233000 260000 990000 207000 423000 313000 557000 800000 287000  43000\n",
      " 530000 773000  37000 280000 523000  10000 253000 767000 497000 740000]\n",
      "\n",
      "\n",
      "************************************************************\n",
      "\n",
      "\n"
     ]
    }
   ],
   "source": [
    "col = ['Day', 'Month', 'Year', 'Hour', 'Minute', 'Second', 'Microsecond']\n",
    "for i in col : \n",
    "    print('Name of the column : ', i)\n",
    "    print('No of the unique values : ', data[i].nunique())\n",
    "    print('Unique Values : ', data[i].unique())\n",
    "    print()\n",
    "    print()\n",
    "    print('*'*60)\n",
    "    print()\n",
    "    print()"
   ]
  },
  {
   "cell_type": "code",
   "execution_count": 38,
   "id": "d233d525",
   "metadata": {},
   "outputs": [],
   "source": [
    "data.drop(['Day', 'Month', 'Year'], axis = 1, inplace = True)"
   ]
  },
  {
   "cell_type": "code",
   "execution_count": 39,
   "id": "e16f2d63",
   "metadata": {},
   "outputs": [
    {
     "name": "stdout",
     "output_type": "stream",
     "text": [
      "Name of the column :  Hour\n",
      "No. of Unique Values :  5\n",
      "Unique Values :  [14 13 15 11 12]\n",
      "\n",
      "\n",
      "************************************************************\n",
      "\n",
      "\n",
      "Name of the column :  Minute\n",
      "No. of Unique Values :  52\n",
      "Unique Values :  [ 3  4  5  6 10 11 12 13 17 18 19 20 22 23 24 25 29 30 31 32 21 26 27 28\n",
      " 33 34 37 38 39 40 45 46 47 48  7  8  9 35 36 44 49 50 51 52 53 59  0  1\n",
      "  2 14 15 16]\n",
      "\n",
      "\n",
      "************************************************************\n",
      "\n",
      "\n",
      "Name of the column :  Second\n",
      "No. of Unique Values :  60\n",
      "Unique Values :  [25 26 27 28 29 30 31 32 33 34 35 36 37 38 39 40 41 42 43 44 45 46 47 48\n",
      " 49 50 51 52 53 54 55 56 57 58 59  0  1  2  3  4  5  6  7  8  9 10 11 12\n",
      " 13 14 15 16 17 18 19 20 21 22 23 24]\n",
      "\n",
      "\n",
      "************************************************************\n",
      "\n",
      "\n"
     ]
    }
   ],
   "source": [
    "col = ['Hour', 'Minute', 'Second']\n",
    "\n",
    "for i in col:\n",
    "    print(\"Name of the column : \", i)\n",
    "    print(\"No. of Unique Values : \", data[i].nunique())\n",
    "    print(\"Unique Values : \", data[i].unique())\n",
    "    print()\n",
    "    print()\n",
    "    print('*'*60)\n",
    "    print()\n",
    "    print()"
   ]
  },
  {
   "cell_type": "code",
   "execution_count": 40,
   "id": "8225de1a",
   "metadata": {},
   "outputs": [
    {
     "data": {
      "image/png": "[encoded data removed]",
      "text/plain": [
       "<Figure size 360x360 with 1 Axes>"
      ]
     },
     "metadata": {
      "needs_background": "light"
     },
     "output_type": "display_data"
    },
    {
     "data": {
      "image/png": "[encoded data removed]",
      "text/plain": [
       "<Figure size 360x360 with 1 Axes>"
      ]
     },
     "metadata": {
      "needs_background": "light"
     },
     "output_type": "display_data"
    },
    {
     "data": {
      "image/png": "[encoded data removed]",
      "text/plain": [
       "<Figure size 360x360 with 1 Axes>"
      ]
     },
     "metadata": {
      "needs_background": "light"
     },
     "output_type": "display_data"
    }
   ],
   "source": [
    "for i in col:\n",
    "    sns.displot(data[i])\n",
    "    plt.show()"
   ]
  },
  {
   "cell_type": "code",
   "execution_count": 41,
   "id": "1f52a0d5",
   "metadata": {},
   "outputs": [
    {
     "data": {
      "text/plain": [
       "(164859, 11)"
      ]
     },
     "execution_count": 41,
     "metadata": {},
     "output_type": "execute_result"
    }
   ],
   "source": [
    "data.shape"
   ]
  },
  {
   "cell_type": "code",
   "execution_count": 42,
   "id": "e184d2b9",
   "metadata": {},
   "outputs": [
    {
     "name": "stdout",
     "output_type": "stream",
     "text": [
      "<class 'pandas.core.frame.DataFrame'>\n",
      "RangeIndex: 164859 entries, 0 to 164858\n",
      "Data columns (total 11 columns):\n",
      " #   Column             Non-Null Count   Dtype  \n",
      "---  ------             --------------   -----  \n",
      " 0   Sequence Name      164859 non-null  int32  \n",
      " 1   Tag Identificator  164859 non-null  int32  \n",
      " 2   Time Stamp         164859 non-null  int64  \n",
      " 3   X Cordinate        164859 non-null  float64\n",
      " 4   Y Cordinate        164859 non-null  float64\n",
      " 5   Z Cordinate        164859 non-null  float64\n",
      " 6   Activity           164859 non-null  int32  \n",
      " 7   Hour               164859 non-null  int64  \n",
      " 8   Minute             164859 non-null  int64  \n",
      " 9   Second             164859 non-null  int64  \n",
      " 10  Microsecond        164859 non-null  int64  \n",
      "dtypes: float64(3), int32(3), int64(5)\n",
      "memory usage: 11.9 MB\n"
     ]
    }
   ],
   "source": [
    "data.info()"
   ]
  },
  {
   "cell_type": "code",
   "execution_count": 43,
   "id": "4a9f2e49",
   "metadata": {},
   "outputs": [
    {
     "data": {
      "text/plain": [
       "1     54480\n",
       "10    32709\n",
       "4     27244\n",
       "7     18361\n",
       "6     11779\n",
       "2      6168\n",
       "3      5210\n",
       "0      2973\n",
       "9      2848\n",
       "5      1706\n",
       "8      1381\n",
       "Name: Activity, dtype: int64"
      ]
     },
     "execution_count": 43,
     "metadata": {},
     "output_type": "execute_result"
    }
   ],
   "source": [
    "data['Activity'].value_counts()"
   ]
  },
  {
   "cell_type": "code",
   "execution_count": 44,
   "id": "590a9448",
   "metadata": {},
   "outputs": [],
   "source": [
    "X = data.drop(['Activity'], axis = 1)\n",
    "y = data['Activity']"
   ]
  },
  {
   "cell_type": "code",
   "execution_count": 45,
   "id": "e67fc289",
   "metadata": {},
   "outputs": [
    {
     "data": {
      "text/plain": [
       "((599280, 10), (599280,))"
      ]
     },
     "execution_count": 45,
     "metadata": {},
     "output_type": "execute_result"
    }
   ],
   "source": [
    "smote = SMOTE()\n",
    "X_tf , y_tf = smote.fit_resample(X , y)\n",
    "X_tf.shape , y_tf.shape"
   ]
  },
  {
   "cell_type": "code",
   "execution_count": 46,
   "id": "5b5e37a7",
   "metadata": {},
   "outputs": [],
   "source": [
    "scaler = RobustScaler()\n",
    "x = scaler.fit_transform(X_tf)"
   ]
  },
  {
   "cell_type": "code",
   "execution_count": 47,
   "id": "086b625d",
   "metadata": {},
   "outputs": [
    {
     "name": "stdout",
     "output_type": "stream",
     "text": [
      "539352 59928\n"
     ]
    }
   ],
   "source": [
    "x_train,x_test,y_train,y_test = train_test_split(x, y_tf, test_size=.1)\n",
    "\n",
    "print(x_train.shape[0], x_test.shape[0])"
   ]
  },
  {
   "cell_type": "code",
   "execution_count": 48,
   "id": "d14c5b6d",
   "metadata": {},
   "outputs": [],
   "source": [
    "accuracy = {}\n",
    "\n",
    "def train_model(model , model_name):\n",
    "    print(model_name)\n",
    "    model = model.fit(x_train, y_train)\n",
    "    pred = model.predict(x_test)\n",
    "    acc = accuracy_score(y_test , pred)*100\n",
    "    accuracy[model_name] = acc\n",
    "    print('Accuracy Score', acc)\n",
    "    print()\n",
    "    print('Classification Report')\n",
    "    print(classification_report(y_test , pred))"
   ]
  },
  {
   "cell_type": "code",
   "execution_count": 49,
   "id": "2eab6707",
   "metadata": {},
   "outputs": [
    {
     "name": "stdout",
     "output_type": "stream",
     "text": [
      "LGBMClassifier\n",
      "Accuracy Score 98.73181150714191\n",
      "\n",
      "Classification Report\n",
      "              precision    recall  f1-score   support\n",
      "\n",
      "           0       0.98      1.00      0.99      5465\n",
      "           1       0.99      0.97      0.98      5398\n",
      "           2       0.98      0.99      0.99      5354\n",
      "           3       1.00      1.00      1.00      5514\n",
      "           4       1.00      0.99      0.99      5453\n",
      "           5       0.99      1.00      0.99      5514\n",
      "           6       1.00      1.00      1.00      5493\n",
      "           7       0.97      0.98      0.97      5537\n",
      "           8       0.99      1.00      1.00      5376\n",
      "           9       1.00      1.00      1.00      5408\n",
      "          10       0.98      0.94      0.96      5416\n",
      "\n",
      "    accuracy                           0.99     59928\n",
      "   macro avg       0.99      0.99      0.99     59928\n",
      "weighted avg       0.99      0.99      0.99     59928\n",
      "\n"
     ]
    }
   ],
   "source": [
    "lgbm = LGBMClassifier(n_estimators = 720, n_jobs = -1 , max_depth = 15 , min_child_weight = 5 , min_child_samples = 5 , num_leaves = 10 , learning_rate = 0.15)\n",
    "train_model(lgbm, 'LGBMClassifier')"
   ]
  },
  {
   "cell_type": "code",
   "execution_count": null,
   "id": "e44feba4",
   "metadata": {
    "scrolled": true
   },
   "outputs": [
    {
     "name": "stdout",
     "output_type": "stream",
     "text": [
      "Cat Boost\n"
     ]
    }
   ],
   "source": [
    "cat = CatBoostClassifier(verbose = 0 , n_estimators = 1000)\n",
    "train_model(cat, 'Cat Boost')"
   ]
  },
  {
   "cell_type": "code",
   "execution_count": null,
   "id": "4b1e004d",
   "metadata": {},
   "outputs": [],
   "source": [
    "xgb = XGBClassifier(n_estimators = 1500, nthread  = 4, max_depth = 15, min_child_weight = 5, learning_rate=0.01)\n",
    "train_model(xgb, 'XGBClassifier')"
   ]
  },
  {
   "cell_type": "code",
   "execution_count": null,
   "id": "878dd64e",
   "metadata": {},
   "outputs": [],
   "source": [
    "rfc = RandomForestClassifier(n_estimators = 1500, n_jobs=-1, max_depth=15, min_samples_split=5, min_samples_leaf=3)\n",
    "train_model(rfc, 'Random Forest Classifier')"
   ]
  },
  {
   "cell_type": "code",
   "execution_count": null,
   "id": "e3ffe8fb",
   "metadata": {},
   "outputs": [],
   "source": []
  }
 ],
 "metadata": {
  "kernelspec": {
   "display_name": "Python 3 (ipykernel)",
   "language": "python",
   "name": "python3"
  },
  "language_info": {
   "codemirror_mode": {
    "name": "ipython",
    "version": 3
   },
   "file_extension": ".py",
   "mimetype": "text/x-python",
   "name": "python",
   "nbconvert_exporter": "python",
   "pygments_lexer": "ipython3",
   "version": "3.10.5"
  }
 },
 "nbformat": 4,
 "nbformat_minor": 5
}
